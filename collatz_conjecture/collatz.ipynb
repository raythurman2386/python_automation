{
 "cells": [
  {
   "cell_type": "code",
   "execution_count": 11,
   "metadata": {},
   "outputs": [],
   "source": [
    "def collatz(n, s=None):\n",
    "    # Ensure the number is a positive whole number\n",
    "    if n <= 0:\n",
    "        raise ValueError(f'Please input a value greater than 0! You input {n}.')\n",
    "    \n",
    "    if type(n) is not int:\n",
    "        raise TypeError(f'Please input a valid positive whole number!')\n",
    "    \n",
    "    # Keep a list of the numbers calculated\n",
    "    sequence = [n]\n",
    "    \n",
    "    # Till the number reaches 1\n",
    "    while n != 1:\n",
    "        # If the number even, divide by two\n",
    "        if n % 2 == 0:\n",
    "            n = n // 2\n",
    "        else:\n",
    "        # If the number is odd, multiply by 3 and add 1\n",
    "            n = 3 * n + 1\n",
    "            \n",
    "        # Add the number to the list\n",
    "        sequence.append(n)\n",
    "        \n",
    "    # return the final list\n",
    "    return sequence"
   ]
  },
  {
   "cell_type": "code",
   "execution_count": 13,
   "metadata": {},
   "outputs": [
    {
     "name": "stdout",
     "output_type": "stream",
     "text": [
      "[13919377, 41758132, 20879066, 10439533, 31318600, 15659300, 7829650, 3914825, 11744476, 5872238, 2936119, 8808358, 4404179, 13212538, 6606269, 19818808, 9909404, 4954702, 2477351, 7432054, 3716027, 11148082, 5574041, 16722124, 8361062, 4180531, 12541594, 6270797, 18812392, 9406196, 4703098, 2351549, 7054648, 3527324, 1763662, 881831, 2645494, 1322747, 3968242, 1984121, 5952364, 2976182, 1488091, 4464274, 2232137, 6696412, 3348206, 1674103, 5022310, 2511155, 7533466, 3766733, 11300200, 5650100, 2825050, 1412525, 4237576, 2118788, 1059394, 529697, 1589092, 794546, 397273, 1191820, 595910, 297955, 893866, 446933, 1340800, 670400, 335200, 167600, 83800, 41900, 20950, 10475, 31426, 15713, 47140, 23570, 11785, 35356, 17678, 8839, 26518, 13259, 39778, 19889, 59668, 29834, 14917, 44752, 22376, 11188, 5594, 2797, 8392, 4196, 2098, 1049, 3148, 1574, 787, 2362, 1181, 3544, 1772, 886, 443, 1330, 665, 1996, 998, 499, 1498, 749, 2248, 1124, 562, 281, 844, 422, 211, 634, 317, 952, 476, 238, 119, 358, 179, 538, 269, 808, 404, 202, 101, 304, 152, 76, 38, 19, 58, 29, 88, 44, 22, 11, 34, 17, 52, 26, 13, 40, 20, 10, 5, 16, 8, 4, 2, 1]\n"
     ]
    }
   ],
   "source": [
    "print(collatz(13919377))"
   ]
  },
  {
   "cell_type": "code",
   "execution_count": 14,
   "metadata": {},
   "outputs": [
    {
     "name": "stdout",
     "output_type": "stream",
     "text": [
      "[391, 1174, 587, 1762, 881, 2644, 1322, 661, 1984, 992, 496, 248, 124, 62, 31, 94, 47, 142, 71, 214, 107, 322, 161, 484, 242, 121, 364, 182, 91, 274, 137, 412, 206, 103, 310, 155, 466, 233, 700, 350, 175, 526, 263, 790, 395, 1186, 593, 1780, 890, 445, 1336, 668, 334, 167, 502, 251, 754, 377, 1132, 566, 283, 850, 425, 1276, 638, 319, 958, 479, 1438, 719, 2158, 1079, 3238, 1619, 4858, 2429, 7288, 3644, 1822, 911, 2734, 1367, 4102, 2051, 6154, 3077, 9232, 4616, 2308, 1154, 577, 1732, 866, 433, 1300, 650, 325, 976, 488, 244, 122, 61, 184, 92, 46, 23, 70, 35, 106, 53, 160, 80, 40, 20, 10, 5, 16, 8, 4, 2, 1]\n"
     ]
    }
   ],
   "source": [
    "print(collatz(391))"
   ]
  }
 ],
 "metadata": {
  "kernelspec": {
   "display_name": "venv",
   "language": "python",
   "name": "venv"
  },
  "language_info": {
   "codemirror_mode": {
    "name": "ipython",
    "version": 3
   },
   "file_extension": ".py",
   "mimetype": "text/x-python",
   "name": "python",
   "nbconvert_exporter": "python",
   "pygments_lexer": "ipython3",
   "version": "3.10.8"
  },
  "orig_nbformat": 4
 },
 "nbformat": 4,
 "nbformat_minor": 2
}
